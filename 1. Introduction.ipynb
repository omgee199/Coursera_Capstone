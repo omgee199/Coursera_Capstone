{
 "cells": [
  {
   "cell_type": "markdown",
   "metadata": {},
   "source": [
    "# Capstone Project Course"
   ]
  },
  {
   "cell_type": "markdown",
   "metadata": {},
   "source": [
    "This notebook will be mainly used for the capstone project"
   ]
  },
  {
   "cell_type": "code",
   "execution_count": 2,
   "metadata": {},
   "outputs": [],
   "source": [
    "import pandas as pd\n",
    "import numpy as np"
   ]
  },
  {
   "cell_type": "code",
   "execution_count": 3,
   "metadata": {},
   "outputs": [
    {
     "name": "stderr",
     "output_type": "stream",
     "text": [
      "/home/jupyterlab/conda/envs/python/lib/python3.6/site-packages/IPython/core/interactiveshell.py:3072: DtypeWarning: Columns (33) have mixed types.Specify dtype option on import or set low_memory=False.\n",
      "  interactivity=interactivity, compiler=compiler, result=result)\n"
     ]
    }
   ],
   "source": [
    "df_accident = pd.read_csv('https://s3.us.cloud-object-storage.appdomain.cloud/cf-courses-data/CognitiveClass/DP0701EN/version-2/Data-Collisions.csv')"
   ]
  },
  {
   "cell_type": "markdown",
   "metadata": {},
   "source": [
    "### 1. Introduction\n",
    "\n",
    "\n",
    "Disabilities and deaths caused by collisions are a major public health issue. This is due to personal factors (e.g. collision was due to inattention or driver was under the influence) or to environmental factors (e.g. weather and road conditions). Not only does this issue cause rising costs in health services, there are considerable economic losses attributed to these injuries. In order ensure equal access to the limited supply of medical care, predicting the severity and probability road crashes could reduce the use of intensive care. \n",
    "\n",
    "The intensive care unit provides 24-hour care to patients who are unwell and require critical medical care. As there is limited number of beds available to patients in need of care (i.e. sickness caused by COVID-19) and road crashes are known to be largely preventable, reducing the number of car accidents could address the shortage of intensive care beds. Thus, the aim of the study is to examine what are the most important factors associated with the car accidents.\n",
    "\n",
    "The objective is to:\n",
    "1. Describe personal factors that are attributed to road crashes (e.g. inattention, under the influence) \n",
    "2. Predict the severity of a road crash of a new patient, given environmental factors (e.g. the weather and the road conditions)\n",
    "\n",
    "\n",
    "This is relevant for informing health economics decision making, in which new policies or guidelines may be implemented to reduce and prevent the number of  and the costs associated with collisions."
   ]
  },
  {
   "cell_type": "markdown",
   "metadata": {},
   "source": []
  },
  {
   "cell_type": "code",
   "execution_count": null,
   "metadata": {},
   "outputs": [],
   "source": []
  }
 ],
 "metadata": {
  "kernelspec": {
   "display_name": "Python",
   "language": "python",
   "name": "conda-env-python-py"
  },
  "language_info": {
   "codemirror_mode": {
    "name": "ipython",
    "version": 3
   },
   "file_extension": ".py",
   "mimetype": "text/x-python",
   "name": "python",
   "nbconvert_exporter": "python",
   "pygments_lexer": "ipython3",
   "version": "3.6.11"
  }
 },
 "nbformat": 4,
 "nbformat_minor": 4
}
