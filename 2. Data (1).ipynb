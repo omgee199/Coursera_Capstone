{
 "cells": [
  {
   "cell_type": "markdown",
   "metadata": {},
   "source": [
    "### 2. Method\n",
    "\n",
    "#### 2.1 Dataset \n",
    "\n",
    "As the aim is to predict the severity of a collision of a new patient, this study will carry out an analysis of the Data-Collisions CSV file using predictive and classification methods. This data set can be found at https://s3.us.cloud-object-storage.appdomain.cloud/cf-courses-data/CognitiveClass/DP0701EN/version-2/Data-Collisions.csv. This data set contains 37 different types of collisions from the year 2004 to present. This data set is able to predict accident \"severity\", thus, is used for this study.\n",
    "\n",
    "Data that were not related to the focus of the study were dropped. This included personal identifiers and specific elements such as the date and time. The table below shows the included and excluded variables. \n",
    "\n",
    "\n",
    "\n",
    "\n",
    "#### 2.2 Data analysis\n",
    "\n",
    "To examine factors related to road collisions, the frequency of the crash depending on the independent factor was examined to determine whether the factor was an important predictor for severity. As the outcome is a dichotomous variable, bar charts were plotted. \n",
    "\n",
    "To predict people-related and environmental factors attributed to the severity of road collisions, the relationship between independent variables (people-related and the environment) and the severity of the collision is examined. To analyse a dataset with a dichotomous outcome, logistic regression prediction and decision tree classification modelling was used to develop a model that predicted severity as an outcome. \n",
    "\n",
    "Independent variables:\n",
    "People-related factors that are attributed to the severity of road crashes: VEHCOUNT, PEDCOUNT, PEDCYLCOUNT, PERSONCOUNT\n",
    "Environmental factors that are attributed to the severity of road crashes: WEATHER, ROADCOND, LIGHTCOND, ADDRTYPE\n",
    "Dependent variable:  the severity of the collision\n"
   ]
  },
  {
   "cell_type": "code",
   "execution_count": null,
   "metadata": {},
   "outputs": [],
   "source": []
  }
 ],
 "metadata": {
  "kernelspec": {
   "display_name": "Python",
   "language": "python",
   "name": "conda-env-python-py"
  },
  "language_info": {
   "codemirror_mode": {
    "name": "ipython",
    "version": 3
   },
   "file_extension": ".py",
   "mimetype": "text/x-python",
   "name": "python",
   "nbconvert_exporter": "python",
   "pygments_lexer": "ipython3",
   "version": "3.6.11"
  }
 },
 "nbformat": 4,
 "nbformat_minor": 4
}
