{
 "cells": [
  {
   "cell_type": "markdown",
   "metadata": {},
   "source": [
    "### 2. Method\n",
    "\n",
    "#### 2.1 Dataset \n",
    "\n",
    "As the aim is to predict the severity of a collision of a new patient, this study will carry out an analysis of the Data-Collisions CSV file using predictive and classification methods. This data set contains 37 different types of collisions from the year 2004 to present. This data set is able to predict accident \"severity\", thus, is used for this study.\n",
    "\n",
    "\n",
    "#### 2.2 Data analysis\n",
    "\n",
    "To describe personal factors that are attributed to road crashes, an associational data analysis will be conducted. \n",
    "- The variables under investigation: inattention (y/n), underinfluence(y/n), pedestrian right of way(y/n), speeding was a factor (y/n)\n",
    "\n",
    "\n",
    "To predict predict the severity of a road crash of a new patient, a regression and classification method will be used.\n",
    "- Dependent variable:  the severity of the collision\n",
    "- Independent variables:  condition of the road, light conditions during the collision\n",
    "\n",
    "The data will be stratified by 'Collision address type' in order to observe the level of severity depending on environmental conditions in different locations."
   ]
  },
  {
   "cell_type": "code",
   "execution_count": null,
   "metadata": {},
   "outputs": [],
   "source": []
  }
 ],
 "metadata": {
  "kernelspec": {
   "display_name": "Python",
   "language": "python",
   "name": "conda-env-python-py"
  },
  "language_info": {
   "codemirror_mode": {
    "name": "ipython",
    "version": 3
   },
   "file_extension": ".py",
   "mimetype": "text/x-python",
   "name": "python",
   "nbconvert_exporter": "python",
   "pygments_lexer": "ipython3",
   "version": "3.6.11"
  }
 },
 "nbformat": 4,
 "nbformat_minor": 4
}
